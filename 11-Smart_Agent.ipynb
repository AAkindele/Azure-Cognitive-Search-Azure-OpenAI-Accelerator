{
 "cells": [
  {
   "cell_type": "markdown",
   "id": "6423f8f3-a592-4ee7-9969-39e38933be52",
   "metadata": {},
   "source": [
    "# Putting it all together"
   ]
  },
  {
   "cell_type": "markdown",
   "id": "06bf854d-94d7-4a65-952a-22c7999a9a9b",
   "metadata": {},
   "source": [
    "So far we have done the following on the prior Notebooks:\n",
    "\n",
    "- **Notebook 01**: We loaded the Azure Search Engine with enriched PDFs in index: \"cogsrch-index-files\"\n",
    "- **Notebook 02**: We loaded more information to the Search Engine this time using a CSV file with 90k rows/articles in index: \"cogsrch-index-csv\"\n",
    "- **Notebook 03**: We added AzureOpenAI GPT models to enhance the the production of the answer by using Utility Chains of LLMs\n",
    "- **Notebook 04**: We manually loaded an index with large/complex PDFs information , \"cogsrch-index-books-vector\"\n",
    "- **Notebook 05**: We added memory to our system in order to power a conversational Chat Bot\n",
    "- **Notebook 06**: We introduced Agents and Tools and built the first Skill/Agent, that can do RAG over a search engine\n",
    "- **Notebook 07**: We build a second Agent (Pandas) in order to be able to solve a more complex task: ask questions to Tabular datasets\n",
    "- **Notebook 08**: We used a SQL Agent in order to talk to a SQL Database directly\n",
    "- **Notebook 09**: We used another  Agent in order to talk to the Bing Search API and create a Bing Chat Clone and implemented callbacks for real-time streaming and tool information\n",
    "- **Notebook 10**: We built an API Agent that can translate a question into the right API calls, giving us the capability to talk to any datasource that provides a RESTFul API.\n",
    "\n",
    "\n",
    "We are missing one more thing: **How do we glue all these features together into a very smart GPT Smart Search Engine Chat Bot?**\n",
    "\n",
    "We want a virtual assistant for our company that can get the question, think what tool to use, then get the answer. The goal is that, regardless of the source of the information (Search Engine, Bing Search, SQL Database, CSV File, JSON File, APIs, etc), the Assistant can answer the question correctly using the right tool.\n",
    "\n",
    "In this Notebook we are going to create that \"brain\" Agent (also called Master Agent), that:\n",
    "\n",
    "1) understands the question, interacts with the user \n",
    "2) talks to other specialized Agents that are connected to diferent sources\n",
    "3) once it get's the answer it delivers it to the user or let the specialized Agent to deliver it directly\n",
    "\n",
    "This is the same concept of [AutoGen](https://www.microsoft.com/en-us/research/blog/autogen-enabling-next-generation-large-language-model-applications/): Agents talking to each other."
   ]
  },
  {
   "cell_type": "markdown",
   "id": "1d7fa9dc-64cb-4ee2-ae98-8cdb72293cbe",
   "metadata": {},
   "source": [
    "![image](https://www.microsoft.com/en-us/research/uploads/prod/2023/09/AutoGen_Fig1.png)"
   ]
  },
  {
   "cell_type": "code",
   "execution_count": 1,
   "id": "30b81551-92ac-4f08-9c00-ba11981c67c2",
   "metadata": {},
   "outputs": [],
   "source": [
    "import os\n",
    "import random\n",
    "import json\n",
    "import requests\n",
    "from langchain_openai import AzureChatOpenAI\n",
    "from langchain.agents import AgentExecutor, Tool, create_openai_tools_agent\n",
    "from langchain_community.chat_message_histories import ChatMessageHistory, CosmosDBChatMessageHistory\n",
    "from langchain.callbacks.manager import CallbackManager\n",
    "from langchain_core.runnables.history import RunnableWithMessageHistory\n",
    "from langchain_core.runnables import ConfigurableFieldSpec\n",
    "from langchain_core.runnables import ConfigurableField\n",
    "\n",
    "#custom libraries that we will use later in the app\n",
    "from common.utils import (\n",
    "    DocSearchAgent, \n",
    "    CSVTabularAgent, \n",
    "    SQLSearchAgent, \n",
    "    ChatGPTTool, \n",
    "    BingSearchAgent, \n",
    "    APISearchAgent, \n",
    "    reduce_openapi_spec\n",
    ")\n",
    "from common.callbacks import StdOutCallbackHandler\n",
    "from common.prompts import CUSTOM_CHATBOT_PROMPT \n",
    "\n",
    "from dotenv import load_dotenv\n",
    "load_dotenv(\"credentials.env\")\n",
    "\n",
    "from IPython.display import Markdown, HTML, display \n",
    "\n",
    "def printmd(string):\n",
    "    display(Markdown(string))\n",
    "\n",
    "MODEL_DEPLOYMENT_NAME = \"gpt-35-turbo-1106\" # Reminder: gpt-35-turbo models will create parsing errors and won't follow instructions correctly "
   ]
  },
  {
   "cell_type": "code",
   "execution_count": 2,
   "id": "67cd1e3e-8527-4a8f-ba90-e700ae7b20ad",
   "metadata": {},
   "outputs": [],
   "source": [
    "os.environ[\"OPENAI_API_VERSION\"] = os.environ[\"AZURE_OPENAI_API_VERSION\"]"
   ]
  },
  {
   "cell_type": "markdown",
   "id": "56b56a94-0471-41c3-b441-3a73ff5dedfc",
   "metadata": {},
   "source": [
    "### Get the Tools - DocSearch Agent, CSV Agent, SQL Agent, Web Search Agent, ChatGPT, API Agent\n",
    "\n",
    "**Consider the following concept:** Agents, which are essentially software entities designed to perform specific tasks, can be equipped with tools. These tools themselves can be other agents, each possessing their own set of tools. This creates a layered structure where tools can range from code sequences to human actions, forming interconnected chains. Ultimately, you're constructing a network of agents and their respective tools, all collaboratively working towards solving a specific task (This is what ChatGPT is). This network operates by leveraging the unique capabilities of each agent and tool, creating a dynamic and efficient system for task resolution.\n",
    "\n",
    "In the file `common/utils.py` we created Agent Tools Classes for each of the Functionalities that we developed in prior Notebooks. "
   ]
  },
  {
   "cell_type": "code",
   "execution_count": 3,
   "id": "643d1650-6416-46fd-8b21-f5fb298ec063",
   "metadata": {},
   "outputs": [],
   "source": [
    "cb_handler = StdOutCallbackHandler()\n",
    "cb_manager = CallbackManager(handlers=[cb_handler])\n",
    "\n",
    "COMPLETION_TOKENS = 2000\n",
    "\n",
    "# We can run the everything with GPT3.5, but try also GPT4 and see the difference in the quality of responses\n",
    "llm = AzureChatOpenAI(deployment_name=os.environ[\"GPT35_DEPLOYMENT_NAME\"], temperature=0.5, max_tokens=COMPLETION_TOKENS, streaming=True, callback_manager=cb_manager)"
   ]
  },
  {
   "cell_type": "code",
   "execution_count": 4,
   "id": "eafd5bf5-28ee-4edd-978b-384cce057257",
   "metadata": {},
   "outputs": [],
   "source": [
    "# DocSearchAgent is our Custom Tool Class (Agent) created for Azure Cognitive Search + OpenAI searches\n",
    "text_indexes = [\"cogsrch-index-files\", \"cogsrch-index-csv\", \"cogsrch-index-books\"]\n",
    "doc_search = DocSearchAgent(llm=llm, indexes=text_indexes,\n",
    "                           k=6, reranker_th=1,\n",
    "                           sas_token=os.environ['BLOB_SAS_TOKEN'],\n",
    "                           callback_manager=cb_manager, verbose=False)"
   ]
  },
  {
   "cell_type": "code",
   "execution_count": 5,
   "id": "0f0ae466-aff8-4cdf-80d3-ef2c61867fc7",
   "metadata": {},
   "outputs": [],
   "source": [
    "# BingSearchAgent is a langchain Tool class to use the Bing Search API (https://www.microsoft.com/en-us/bing/apis/bing-web-search-api)\n",
    "www_search = BingSearchAgent(llm=llm, k=5, callback_manager=cb_manager)"
   ]
  },
  {
   "cell_type": "code",
   "execution_count": 6,
   "id": "78edb304-c4a2-4f10-8ded-936e9141aa02",
   "metadata": {},
   "outputs": [],
   "source": [
    "## CSVTabularAgent is a custom Tool class crated to Q&A over CSV files\n",
    "file_url = \"./data/all-states-history.csv\"\n",
    "csv_search = CSVTabularAgent(path=file_url, llm=llm, callback_manager=cb_manager)"
   ]
  },
  {
   "cell_type": "code",
   "execution_count": 7,
   "id": "b9d54cc5-41bc-43c3-a91d-12fc3a2446ba",
   "metadata": {},
   "outputs": [],
   "source": [
    "## SQLDbAgent is a custom Tool class created to Q&A over a MS SQL Database\n",
    "sql_search = SQLSearchAgent(llm=llm, k=30, callback_manager=cb_manager)"
   ]
  },
  {
   "cell_type": "code",
   "execution_count": 8,
   "id": "65465173-92f6-489d-9b48-58d109c5723e",
   "metadata": {},
   "outputs": [],
   "source": [
    "## ChatGPTTool is a custom Tool class created to talk to ChatGPT knowledge\n",
    "chatgpt_search = ChatGPTTool(llm=llm, callback_manager=cb_manager)"
   ]
  },
  {
   "cell_type": "code",
   "execution_count": 10,
   "id": "1fe2b4a7-4053-4334-867f-e4c916e360b2",
   "metadata": {},
   "outputs": [],
   "source": [
    "## APISearchAgent is a custom Tool class created to talk to any API \n",
    "\n",
    "url = \"https://datasetsgptsmartsearch.blob.core.windows.net/apispecs/openapi_kraken.json\"\n",
    "spec = requests.get(url + os.environ['BLOB_SAS_TOKEN']).json()\n",
    "\n",
    "api_search = APISearchAgent(llm=AzureChatOpenAI(deployment_name=os.environ[\"GPT4_DEPLOYMENT_NAME\"], temperature=0.5, max_tokens=1000),\n",
    "                            llm_search=AzureChatOpenAI(deployment_name=os.environ[\"GPT4_DEPLOYMENT_NAME\"], temperature=0.5, max_tokens=1000),\n",
    "                            api_spec=str(reduce_openapi_spec(spec)),\n",
    "                            callback_manager=cb_manager)"
   ]
  },
  {
   "cell_type": "markdown",
   "id": "179fc56a-b7e4-44a1-8b7f-68b2b4d02e13",
   "metadata": {},
   "source": [
    "### Variables/knobs to use for customization"
   ]
  },
  {
   "cell_type": "markdown",
   "id": "21f11831-7578-4326-b3b3-d9b073a7149d",
   "metadata": {},
   "source": [
    "As you have seen so far, there are many knobs that you can dial up or down in order to change the behavior of your GPT Smart Search engine application, these are the variables you can tune:\n",
    "\n",
    "- <u>llm</u>:\n",
    "  - **deployment_name**: this is the deployment name of your Azure OpenAI model. This of course dictates the level of reasoning and the amount of tokens available for the conversation. For a production system you will need gpt-4-32k. This is the model that will give you enough reasoning power to work with agents, and enough tokens to work with detailed answers and conversation memory.\n",
    "  - **temperature**: How creative you want your responses to be\n",
    "  - **max_tokens**: How long you want your responses to be. It is recommended a minimum of 500\n",
    "- <u>Tools</u>: To each tool you can add the following parameters to modify the defaults (set in utils.py), these are very important since they are part of the system prompt and determines what tool to use and when.\n",
    "  - **name**: the name of the tool\n",
    "  - **description**: when the brain agent should use this tool\n",
    "- <u>DocSearchAgent</u>: \n",
    "  - **k**: The top k results per index from the text search action\n",
    "  - **similarity_k**: top k results combined from the vector search action\n",
    "  - **reranker_th**: threshold of the semantic search reranker. Picks results that are above the threshold. Max possible score=4\n",
    "- <u>BingSearchAgent</u>:\n",
    "  - **k**: The top k results from the bing search action\n",
    "- <u>SQLSearchAgent</u>:\n",
    "  - **k**: The top k results from the SQL search action. Adds TOP clause to the query\n",
    "  \n",
    "in `utils.py` you can also tune:\n",
    "- <u>model_tokens_limit</u>: In this function you can edit what is the maximum allows of tokens reserve for the content. Remember that the remaining will be for the system prompt plus the answer"
   ]
  },
  {
   "cell_type": "markdown",
   "id": "d9ee1058-debb-4f97-92a4-999e0c4e0386",
   "metadata": {},
   "source": [
    "### Test the Tools"
   ]
  },
  {
   "cell_type": "code",
   "execution_count": 11,
   "id": "dc11cb35-8817-4dd0-b123-27f9eb032f43",
   "metadata": {},
   "outputs": [
    {
     "name": "stdout",
     "output_type": "stream",
     "text": [
      "Tool: docsearch\n",
      "Agent Action: \n",
      "Invoking: `docsearch` with `{'query': 'weather today in Dallas'}`\n",
      "\n",
      "\n",
      "\n",
      "I couldn't find specific information about the weather today in Dallas in the retrieved documents. If you have access to the internet, you may want to check a reliable weather website or app for the most up-to-date weather forecast for Dallas."
     ]
    },
    {
     "data": {
      "text/markdown": [
       "I couldn't find specific information about the weather today in Dallas in the retrieved documents. If you have access to the internet, you may want to check a reliable weather website or app for the most up-to-date weather forecast for Dallas."
      ],
      "text/plain": [
       "<IPython.core.display.Markdown object>"
      ]
     },
     "metadata": {},
     "output_type": "display_data"
    }
   ],
   "source": [
    "# Test the Documents Search Tool with a question we know it doesn't have the knowledge for\n",
    "printmd(doc_search.run(\"what is the weather today in Dallas?\"))"
   ]
  },
  {
   "cell_type": "code",
   "execution_count": 12,
   "id": "473222f1-b423-49f3-98e7-ab70dcf47bd6",
   "metadata": {},
   "outputs": [
    {
     "name": "stdout",
     "output_type": "stream",
     "text": [
      "Tool: docsearch\n",
      "Agent Action: \n",
      "Invoking: `docsearch` with `{'query': 'Effects of COVID-19 on obese individuals'}`\n",
      "\n",
      "\n",
      "\n",
      "Agent Action: \n",
      "Invoking: `docsearch` with `{'query': 'Effects of COVID-19 on elderly individuals'}`\n",
      "\n",
      "\n",
      "\n",
      "### Effects of COVID-19 on Obese Individuals:\n",
      "- **Risk Factor**: The WHO considers non-communicable diseases, such as obesity, a major risk factor for severe illness with COVID-19<sup><a href=\"https://doi.org/10.2337/dc20-0576\" target=\"_blank\">[1]</a></sup>.\n",
      "- **Impact on Critical Care**: Studies show that a significant percentage of individuals in critical care units with serious COVID-19 complications are either overweight or obese, highlighting the impact of obesity on severe COVID-19 cases<sup><a href=\"https://doi.org/10.1002/oby.22867\" target=\"_blank\">[2]</a></sup>.\n",
      "- **Severity Association**: Obese patients have increased odds of developing severe COVID-19, with higher risks compared to normal-weight individuals<sup><a href=\"https://doi.org/10.2337/dc20-0576\" target=\"_blank\">[1]</a></sup>.\n",
      "\n",
      "### Effects of COVID-19 on Elderly Individuals:\n",
      "- **Vulnerability**: Complications of COVID-19 are severe among older adults, with higher mortality rates compared to younger patients<sup><a href=\"https://doi.org/10.1016/j.jinf.2020.03.005\" target=\"_blank\">[3]</a></sup>.\n",
      "- **Health Disparities**: Geographic differences impact health care use and mortality rates among elderly patients during the pandemic, highlighting health disparities in different regions<sup><a href=\"http://medrxiv.org/cgi/content/short/2020.05.01.20087791v1\" target=\"_blank\">[4]</a></sup>.\n",
      "- **Impact on Elder Mistreatment**: The COVID-19 outbreak has had a profound impact on organizations responding to elder mistreatment, necessitating creative solutions and lessons learned to protect vulnerable elderly individuals<sup><a href=\"https://doi.org/10.1177/0733464820924853\" target=\"_blank\">[5]</a></sup>.\n",
      "\n",
      "These findings emphasize the heightened risks and challenges faced by obese and elderly individuals during the COVID-19 pandemic, necessitating tailored approaches to protect and manage their health effectively."
     ]
    },
    {
     "data": {
      "text/markdown": [
       "### Effects of COVID-19 on Obese Individuals:\n",
       "- **Risk Factor**: The WHO considers non-communicable diseases, such as obesity, a major risk factor for severe illness with COVID-19<sup><a href=\"https://doi.org/10.2337/dc20-0576\" target=\"_blank\">[1]</a></sup>.\n",
       "- **Impact on Critical Care**: Studies show that a significant percentage of individuals in critical care units with serious COVID-19 complications are either overweight or obese, highlighting the impact of obesity on severe COVID-19 cases<sup><a href=\"https://doi.org/10.1002/oby.22867\" target=\"_blank\">[2]</a></sup>.\n",
       "- **Severity Association**: Obese patients have increased odds of developing severe COVID-19, with higher risks compared to normal-weight individuals<sup><a href=\"https://doi.org/10.2337/dc20-0576\" target=\"_blank\">[1]</a></sup>.\n",
       "\n",
       "### Effects of COVID-19 on Elderly Individuals:\n",
       "- **Vulnerability**: Complications of COVID-19 are severe among older adults, with higher mortality rates compared to younger patients<sup><a href=\"https://doi.org/10.1016/j.jinf.2020.03.005\" target=\"_blank\">[3]</a></sup>.\n",
       "- **Health Disparities**: Geographic differences impact health care use and mortality rates among elderly patients during the pandemic, highlighting health disparities in different regions<sup><a href=\"http://medrxiv.org/cgi/content/short/2020.05.01.20087791v1\" target=\"_blank\">[4]</a></sup>.\n",
       "- **Impact on Elder Mistreatment**: The COVID-19 outbreak has had a profound impact on organizations responding to elder mistreatment, necessitating creative solutions and lessons learned to protect vulnerable elderly individuals<sup><a href=\"https://doi.org/10.1177/0733464820924853\" target=\"_blank\">[5]</a></sup>.\n",
       "\n",
       "These findings emphasize the heightened risks and challenges faced by obese and elderly individuals during the COVID-19 pandemic, necessitating tailored approaches to protect and manage their health effectively."
      ],
      "text/plain": [
       "<IPython.core.display.Markdown object>"
      ]
     },
     "metadata": {},
     "output_type": "display_data"
    }
   ],
   "source": [
    "# Test the Document Search Tool with a question that we know it has the answer for\n",
    "printmd(doc_search.run(\"How Covid affects obese people? and elderly?\"))"
   ]
  },
  {
   "cell_type": "code",
   "execution_count": 15,
   "id": "03839591-553c-46a0-846a-1c4fb96bf851",
   "metadata": {},
   "outputs": [
    {
     "name": "stdout",
     "output_type": "stream",
     "text": [
      "Tool: bing\n",
      "Agent Action: \n",
      "Invoking: `Searcher` with `family members of the current president of India`\n",
      "\n",
      "\n",
      "\n",
      "The current President of India is Droupadi Murmu. Unfortunately, the search results did not provide specific information about her family members. If you need more details or have any other questions, feel free to ask!"
     ]
    },
    {
     "data": {
      "text/markdown": [
       "The current President of India is Droupadi Murmu. Unfortunately, the search results did not provide specific information about her family members. If you need more details or have any other questions, feel free to ask!"
      ],
      "text/plain": [
       "<IPython.core.display.Markdown object>"
      ]
     },
     "metadata": {},
     "output_type": "display_data"
    }
   ],
   "source": [
    "# Test the Bing Search Agent\n",
    "# Note: GPT-4 will solve this research, GPT-3.5 solves it half of the time\n",
    "printmd(www_search.run(\"Who are the family member names of the current president of India?\"))"
   ]
  },
  {
   "cell_type": "code",
   "execution_count": 16,
   "id": "bc64f3ee-96e4-4007-8a3c-2f017a615587",
   "metadata": {},
   "outputs": [
    {
     "name": "stdout",
     "output_type": "stream",
     "text": [
      "Tool: csvfile\n",
      "Agent Action: \n",
      "Invoking: `python_repl_ast` with `{'query': 'df.shape'}`\n",
      "\n",
      "\n",
      "\n",
      "The file has 20,780 rows.\n",
      "\n",
      "Final Answer: 20780\n",
      "\n",
      "Explanation:\n",
      "I used the `shape` attribute of the DataFrame to determine the number of rows in the file. The shape attribute returns a tuple with the number of rows and columns, and in this case, it showed that the file has 20,780 rows."
     ]
    },
    {
     "data": {
      "text/markdown": [
       "The file has 20,780 rows.\n",
       "\n",
       "Final Answer: 20780\n",
       "\n",
       "Explanation:\n",
       "I used the `shape` attribute of the DataFrame to determine the number of rows in the file. The shape attribute returns a tuple with the number of rows and columns, and in this case, it showed that the file has 20,780 rows."
      ],
      "text/plain": [
       "<IPython.core.display.Markdown object>"
      ]
     },
     "metadata": {},
     "output_type": "display_data"
    }
   ],
   "source": [
    "# Test the CSV Agent\n",
    "printmd(csv_search.run(\"how many rows does the file have?\"))"
   ]
  },
  {
   "cell_type": "code",
   "execution_count": 17,
   "id": "c809f8d7-2ed9-46d8-a73c-118da063cace",
   "metadata": {},
   "outputs": [
    {
     "name": "stdout",
     "output_type": "stream",
     "text": [
      "Tool: sqlsearch\n",
      "Agent Action: \n",
      "Invoking: `sql_db_list_tables` with ``\n",
      "\n",
      "\n",
      "\n",
      "Agent Action: \n",
      "Invoking: `sql_db_schema` with `{'table_names': 'covidtracking'}`\n",
      "\n",
      "\n",
      "\n",
      "Agent Action: \n",
      "Invoking: `sql_db_query` with `SELECT state, SUM(death) as total_deaths FROM covidtracking WHERE state IN ('CA', 'OR', 'WA') AND date LIKE '2020-07%' GROUP BY state`\n",
      "\n",
      "\n",
      "\n",
      "In July 2020, the total number of deaths in California, Oregon, and Washington on the West Coast were as follows:\n",
      "\n",
      "- California (CA): 229,362 deaths\n",
      "- Oregon (OR): 7,745 deaths\n",
      "- Washington (WA): 44,440 deaths\n",
      "\n",
      "These numbers represent the total deaths in each state on the West Coast during July 2020."
     ]
    },
    {
     "data": {
      "text/markdown": [
       "In July 2020, the total number of deaths in California, Oregon, and Washington on the West Coast were as follows:\n",
       "\n",
       "- California (CA): 229,362 deaths\n",
       "- Oregon (OR): 7,745 deaths\n",
       "- Washington (WA): 44,440 deaths\n",
       "\n",
       "These numbers represent the total deaths in each state on the West Coast during July 2020."
      ],
      "text/plain": [
       "<IPython.core.display.Markdown object>"
      ]
     },
     "metadata": {},
     "output_type": "display_data"
    }
   ],
   "source": [
    "# Test the SQL Search Agent\n",
    "printmd(sql_search.run(\"How many people in total died california in each state of the west coast in July 2020?\"))"
   ]
  },
  {
   "cell_type": "code",
   "execution_count": 18,
   "id": "f70501c2-03d0-4072-b451-ddb92f4add56",
   "metadata": {},
   "outputs": [
    {
     "name": "stdout",
     "output_type": "stream",
     "text": [
      "Tool: chatgpt\n",
      "In Python, you can use the `random` module to generate random numbers. The `random` module provides various functions for generating random numbers. One commonly used function is `random.randint(a, b)`, which returns a random integer N such that `a <= N <= b`. Here's an example:\n",
      "\n",
      "```python\n",
      "import random\n",
      "\n",
      "# Generate a random number between 1 and 10\n",
      "random_number = random.randint(1, 10)\n",
      "print(random_number)\n",
      "```\n",
      "\n",
      "This code snippet will output a random integer between 1 and 10 each time it is run. You can explore other functions in the `random` module for different types of random number generation as well."
     ]
    },
    {
     "data": {
      "text/markdown": [
       "In Python, you can use the `random` module to generate random numbers. The `random` module provides various functions for generating random numbers. One commonly used function is `random.randint(a, b)`, which returns a random integer N such that `a <= N <= b`. Here's an example:\n",
       "\n",
       "```python\n",
       "import random\n",
       "\n",
       "# Generate a random number between 1 and 10\n",
       "random_number = random.randint(1, 10)\n",
       "print(random_number)\n",
       "```\n",
       "\n",
       "This code snippet will output a random integer between 1 and 10 each time it is run. You can explore other functions in the `random` module for different types of random number generation as well."
      ],
      "text/plain": [
       "<IPython.core.display.Markdown object>"
      ]
     },
     "metadata": {},
     "output_type": "display_data"
    }
   ],
   "source": [
    "# Test the ChatGPTWrapper Search Tool\n",
    "printmd(chatgpt_search.run(\"what is the function in python that allows me to get a random number?\"))"
   ]
  },
  {
   "cell_type": "markdown",
   "id": "4c0ff658-b75a-4960-8576-65472844ad05",
   "metadata": {},
   "source": [
    "### Define what tools are we going to give to our brain agent\n",
    "\n",
    "Go to `common/utils.py` to check the tools definition and the instructions on what tool to use when"
   ]
  },
  {
   "cell_type": "code",
   "execution_count": 19,
   "id": "d018c884-5c91-4a35-90e3-6a5a6e510c25",
   "metadata": {},
   "outputs": [],
   "source": [
    "tools = [www_search, sql_search, doc_search, chatgpt_search]"
   ]
  },
  {
   "cell_type": "markdown",
   "id": "06f91421-079d-4bdd-9c45-96a0977c6558",
   "metadata": {},
   "source": [
    "**Note**: Notice that since both the CSV file and the SQL Database have the same exact data, we are only going to use the SQLDBTool since it is faster and more reliable"
   ]
  },
  {
   "cell_type": "markdown",
   "id": "0cc02389-cf52-4a5f-b4a1-2820ee5d8116",
   "metadata": {},
   "source": [
    "### Initialize the brain agent"
   ]
  },
  {
   "cell_type": "code",
   "execution_count": 21,
   "id": "ea67e969-26b3-4e6f-a6c0-16780ed418e3",
   "metadata": {},
   "outputs": [],
   "source": [
    "agent = create_openai_tools_agent(llm, tools, CUSTOM_CHATBOT_PROMPT)"
   ]
  },
  {
   "cell_type": "code",
   "execution_count": 22,
   "id": "d9d2d5b4-0145-402e-a620-0fe3f3548acf",
   "metadata": {},
   "outputs": [],
   "source": [
    "agent_executor = AgentExecutor(agent=agent, tools=tools, verbose=False, callback_manager=cb_manager)"
   ]
  },
  {
   "cell_type": "code",
   "execution_count": 23,
   "id": "e3ffef69-5dcd-423a-802d-7a0c419c7e46",
   "metadata": {},
   "outputs": [],
   "source": [
    "def get_session_history(session_id: str, user_id: str) -> CosmosDBChatMessageHistory:\n",
    "    cosmos = CosmosDBChatMessageHistory(\n",
    "        cosmos_endpoint=os.environ['AZURE_COSMOSDB_ENDPOINT'],\n",
    "        cosmos_database=os.environ['AZURE_COSMOSDB_NAME'],\n",
    "        cosmos_container=os.environ['AZURE_COSMOSDB_CONTAINER_NAME'],\n",
    "        connection_string=os.environ['AZURE_COMOSDB_CONNECTION_STRING'],\n",
    "        session_id=session_id,\n",
    "        user_id=user_id\n",
    "        )\n",
    "\n",
    "    # prepare the cosmosdb instance\n",
    "    cosmos.prepare_cosmos()\n",
    "    return cosmos\n"
   ]
  },
  {
   "cell_type": "code",
   "execution_count": 24,
   "id": "73e389f9-17cc-4c12-80e0-ab671b46bf37",
   "metadata": {},
   "outputs": [],
   "source": [
    "brain_agent_executor = RunnableWithMessageHistory(\n",
    "    agent_executor,\n",
    "    get_session_history,\n",
    "    input_messages_key=\"question\",\n",
    "    history_messages_key=\"history\",\n",
    "    history_factory_config=[\n",
    "        ConfigurableFieldSpec(\n",
    "            id=\"user_id\",\n",
    "            annotation=str,\n",
    "            name=\"User ID\",\n",
    "            description=\"Unique identifier for the user.\",\n",
    "            default=\"\",\n",
    "            is_shared=True,\n",
    "        ),\n",
    "        ConfigurableFieldSpec(\n",
    "            id=\"session_id\",\n",
    "            annotation=str,\n",
    "            name=\"Session ID\",\n",
    "            description=\"Unique identifier for the conversation.\",\n",
    "            default=\"\",\n",
    "            is_shared=True,\n",
    "        ),\n",
    "    ],\n",
    ")"
   ]
  },
  {
   "cell_type": "code",
   "execution_count": 25,
   "id": "601fce84-4a02-41a6-8ae2-f692174d4cc8",
   "metadata": {},
   "outputs": [],
   "source": [
    "# This is where we configure the session id and user id\n",
    "random_session_id = \"session\"+ str(random.randint(1, 1000))\n",
    "ramdom_user_id = \"user\"+ str(random.randint(1, 1000))\n",
    "\n",
    "config={\"configurable\": {\"session_id\": random_session_id, \"user_id\": ramdom_user_id}}"
   ]
  },
  {
   "cell_type": "markdown",
   "id": "4904a07d-b857-45d7-86ac-c7cade3e9080",
   "metadata": {},
   "source": [
    "### Let's talk to our GPT Smart Search Engine chat bot now"
   ]
  },
  {
   "cell_type": "code",
   "execution_count": 26,
   "id": "4b37988b-9fb4-4958-bc17-d58d8dac8bb7",
   "metadata": {},
   "outputs": [
    {
     "name": "stdout",
     "output_type": "stream",
     "text": [
      "Hello Pablo Marin! I'm here and ready to assist you. How can I help you today?"
     ]
    },
    {
     "data": {
      "text/markdown": [
       "Hello Pablo Marin! I'm here and ready to assist you. How can I help you today?"
      ],
      "text/plain": [
       "<IPython.core.display.Markdown object>"
      ]
     },
     "metadata": {},
     "output_type": "display_data"
    }
   ],
   "source": [
    "# This question should not use any tool, the brain agent should answer it without the use of any tool\n",
    "printmd(brain_agent_executor.invoke({\"question\": \"Hi, I'm Pablo Marin, how are you doing today?\"}, config=config)[\"output\"])"
   ]
  },
  {
   "cell_type": "code",
   "execution_count": 27,
   "id": "e4c89051-f947-4329-9bf6-14e3023236fd",
   "metadata": {},
   "outputs": [
    {
     "name": "stdout",
     "output_type": "stream",
     "text": [
      "My name is Jarvis. How can I assist you today?"
     ]
    },
    {
     "data": {
      "text/markdown": [
       "My name is Jarvis. How can I assist you today?"
      ],
      "text/plain": [
       "<IPython.core.display.Markdown object>"
      ]
     },
     "metadata": {},
     "output_type": "display_data"
    }
   ],
   "source": [
    "# This question should not use any tool either\n",
    "printmd(brain_agent_executor.invoke({\"question\": \"What is your name?\"}, config=config)[\"output\"])"
   ]
  },
  {
   "cell_type": "code",
   "execution_count": 28,
   "id": "ebdc3ad9-ad59-4135-87f6-e86728a11b71",
   "metadata": {},
   "outputs": [
    {
     "name": "stdout",
     "output_type": "stream",
     "text": [
      "Agent Action: \n",
      "Invoking: `bing` with `Italian restaurants in downtown Chicago`\n",
      "\n",
      "\n",
      "\n",
      "Tool: bing\n",
      "Agent Action: \n",
      "Invoking: `Searcher` with `Italian restaurants in downtown Chicago`\n",
      "\n",
      "\n",
      "\n",
      "### Italian Restaurants in Downtown Chicago\n",
      "\n",
      "Here are some recommended Italian restaurants in downtown Chicago:\n",
      "\n",
      "1. **Giordano's**\n",
      "   - Cuisine: Italian, Pizza\n",
      "   - Description: Serving authentic Chicago-style deep dish pizza with quality toppings, Giordano's also offers a selection of sandwiches, pastas, and buffalo wings in a clean and bright space. Frozen pizzas are also available.\n",
      "   - Rating: 3,189 reviews\n",
      "   - [More Information](https://www.tripadvisor.com/Restaurants-g35805-c26-zfn7778523-Chicago_Illinois.html)\n",
      "\n",
      "2. **The Fillmore**\n",
      "   - Location: Jeweler's Row\n",
      "   - Description: The Madison Street location embodies historic Chicago dining with timeless songs by Sinatra and Martin filling the air. Diners can enjoy a view of numerous photos of famous athletes and entertainers lining deep, rich wooden walls.\n",
      "   - Rating: Highly recommended (57)\n",
      "   - [More Information](https://www.opentable.com/cuisine/best-italian-restaurants-downtown-chicago-il)\n",
      "\n",
      "3. **Monteverde**\n",
      "   - Location: West Loop\n",
      "   - Description: Monteverde offers a variety of Italian dishes. The chef-owner, Sarah Grueneberg, brings her expertise to this West Loop eatery.\n",
      "   - [More Information](https://www.timeout.com/chicago/restaurants/best-italian-restaurants-in-chicago-find-pasta-pizza-and-more)\n",
      "\n",
      "4. **Topo Gigio Ristorante**\n",
      "   - Cuisine: Italian, Tuscan\n",
      "   - Description: Nestled in Old Town, this Tuscan-style eatery presents a mix of Italian fare, with specialties including whitefish, veal limone, and a notable tiramisu. Outdoor seating is available, and reservations are suggested.\n",
      "   - [More Information](https://www.tripadvisor.com/Restaurants-g35805-c26-Chicago_Illinois.html)\n",
      "\n",
      "5. **Chicago Pizza & Oven Grinder**\n",
      "   - Description: Known for dishes like tortellini alla panna and baked clams, this restaurant offers comfort foods and is a great spot for an early dinner for families with young children.\n",
      "   - [More Information](https://chicago.eater.com/maps/best-italian-restaurants-in-chicago)\n",
      "\n",
      "These restaurants offer a variety of Italian dishes in different atmospheres, providing a delightful dining experience in downtown Chicago.Agent Action: \n",
      "Invoking: `bing` with `Sushi restaurants in downtown Chicago`\n",
      "\n",
      "\n",
      "\n",
      "Tool: bing\n",
      "Agent Action: \n",
      "Invoking: `Searcher` with `Sushi restaurants in downtown Chicago`\n",
      "\n",
      "\n",
      "\n",
      "### Sushi Restaurants in Downtown Chicago\n",
      "\n",
      "Here are some top sushi restaurants in downtown Chicago:\n",
      "\n",
      "1. **[The 10 Best Sushi in Downtown / The Loop Chicago - Tripadvisor](https://www.tripadvisor.com/Restaurants-g35805-c38-zfn7778523-Chicago_Illinois.html)**\n",
      "   - **I Love Sushi**: Known for its nice location, fast service, and friendly employees.\n",
      "\n",
      "2. **[42 Best Sushi Restaurants In Downtown / Loop | OpenTable](https://www.opentable.com/cuisine/best-sushi-restaurants-downtown-chicago-il)**\n",
      "   - **SUSHI-SAN - River North**: Praised as one of the best Japanese restaurants in the US, offering a diverse menu and a superb whiskey list.\n",
      "\n",
      "3. **[Chicago’s best sushi restaurants - Eater Chicago](https://chicago.eater.com/maps/best-sushi-restaurants-chicago)**\n",
      "   - This restaurant features modern design elements and ever-changing menus.\n",
      "\n",
      "4. **[TOP 10 BEST Sushi Downtown in Chicago, IL - Yelp](https://www.yelp.com/search?find_desc=sushi+downtown&find_loc=Chicago%2C+IL)**\n",
      "   - Includes popular spots like Sushi Plus Rotary Sushi Bar, Nobu Chicago, Sushi Taku, Sunda Chicago, SUSHI-SAN, and more.\n",
      "\n",
      "These restaurants offer a variety of sushi options and dining experiences in downtown Chicago.Here are some options for Italian and Sushi restaurants in downtown Chicago:\n",
      "\n",
      "### Italian Restaurants in Downtown Chicago\n",
      "1. **Giordano's**\n",
      "   - Cuisine: Italian, Pizza\n",
      "   - Rating: 3,189 reviews\n",
      "   - [More Information](https://www.tripadvisor.com/Restaurants-g35805-c26-zfn7778523-Chicago_Illinois.html)\n",
      "\n",
      "2. **The Fillmore**\n",
      "   - Location: Jeweler's Row\n",
      "   - Rating: Highly recommended (57)\n",
      "   - [More Information](https://www.opentable.com/cuisine/best-italian-restaurants-downtown-chicago-il)\n",
      "\n",
      "3. **Monteverde**\n",
      "   - Location: West Loop\n",
      "   - [More Information](https://www.timeout.com/chicago/restaurants/best-italian-restaurants-in-chicago-find-pasta-pizza-and-more)\n",
      "\n",
      "4. **Topo Gigio Ristorante**\n",
      "   - Cuisine: Italian, Tuscan\n",
      "   - [More Information](https://www.tripadvisor.com/Restaurants-g35805-c26-Chicago_Illinois.html)\n",
      "\n",
      "5. **Chicago Pizza & Oven Grinder**\n",
      "   - [More Information](https://chicago.eater.com/maps/best-italian-restaurants-in-chicago)\n",
      "\n",
      "### Sushi Restaurants in Downtown Chicago\n",
      "1. **I Love Sushi**\n",
      "   - Known for its nice location, fast service, and friendly employees.\n",
      "   - [More Information](https://www.tripadvisor.com/Restaurants-g35805-c38-zfn7778523-Chicago_Illinois.html)\n",
      "\n",
      "2. **SUSHI-SAN - River North**\n",
      "   - Praised as one of the best Japanese restaurants in the US, offering a diverse menu and a superb whiskey list.\n",
      "   - [More Information](https://www.opentable.com/cuisine/best-sushi-restaurants-downtown-chicago-il)\n",
      "\n",
      "3. **Modern Sushi Restaurant**\n",
      "   - Features modern design elements and ever-changing menus.\n",
      "   - [More Information](https://chicago.eater.com/maps/best-sushi-restaurants-chicago)\n",
      "\n",
      "4. **Popular Sushi Spots**\n",
      "   - Includes Sushi Plus Rotary Sushi Bar, Nobu Chicago, Sushi Taku, Sunda Chicago, SUSHI-SAN, and more.\n",
      "   - [More Information](https://www.yelp.com/search?find_desc=sushi+downtown&find_loc=Chicago%2C+IL)\n",
      "\n",
      "These options offer a variety of dining experiences for both Italian and Sushi cuisine in downtown Chicago. Enjoy your dinner with your girlfriend!"
     ]
    },
    {
     "data": {
      "text/markdown": [
       "Here are some options for Italian and Sushi restaurants in downtown Chicago:\n",
       "\n",
       "### Italian Restaurants in Downtown Chicago\n",
       "1. **Giordano's**\n",
       "   - Cuisine: Italian, Pizza\n",
       "   - Rating: 3,189 reviews\n",
       "   - [More Information](https://www.tripadvisor.com/Restaurants-g35805-c26-zfn7778523-Chicago_Illinois.html)\n",
       "\n",
       "2. **The Fillmore**\n",
       "   - Location: Jeweler's Row\n",
       "   - Rating: Highly recommended (57)\n",
       "   - [More Information](https://www.opentable.com/cuisine/best-italian-restaurants-downtown-chicago-il)\n",
       "\n",
       "3. **Monteverde**\n",
       "   - Location: West Loop\n",
       "   - [More Information](https://www.timeout.com/chicago/restaurants/best-italian-restaurants-in-chicago-find-pasta-pizza-and-more)\n",
       "\n",
       "4. **Topo Gigio Ristorante**\n",
       "   - Cuisine: Italian, Tuscan\n",
       "   - [More Information](https://www.tripadvisor.com/Restaurants-g35805-c26-Chicago_Illinois.html)\n",
       "\n",
       "5. **Chicago Pizza & Oven Grinder**\n",
       "   - [More Information](https://chicago.eater.com/maps/best-italian-restaurants-in-chicago)\n",
       "\n",
       "### Sushi Restaurants in Downtown Chicago\n",
       "1. **I Love Sushi**\n",
       "   - Known for its nice location, fast service, and friendly employees.\n",
       "   - [More Information](https://www.tripadvisor.com/Restaurants-g35805-c38-zfn7778523-Chicago_Illinois.html)\n",
       "\n",
       "2. **SUSHI-SAN - River North**\n",
       "   - Praised as one of the best Japanese restaurants in the US, offering a diverse menu and a superb whiskey list.\n",
       "   - [More Information](https://www.opentable.com/cuisine/best-sushi-restaurants-downtown-chicago-il)\n",
       "\n",
       "3. **Modern Sushi Restaurant**\n",
       "   - Features modern design elements and ever-changing menus.\n",
       "   - [More Information](https://chicago.eater.com/maps/best-sushi-restaurants-chicago)\n",
       "\n",
       "4. **Popular Sushi Spots**\n",
       "   - Includes Sushi Plus Rotary Sushi Bar, Nobu Chicago, Sushi Taku, Sunda Chicago, SUSHI-SAN, and more.\n",
       "   - [More Information](https://www.yelp.com/search?find_desc=sushi+downtown&find_loc=Chicago%2C+IL)\n",
       "\n",
       "These options offer a variety of dining experiences for both Italian and Sushi cuisine in downtown Chicago. Enjoy your dinner with your girlfriend!"
      ],
      "text/plain": [
       "<IPython.core.display.Markdown object>"
      ]
     },
     "metadata": {},
     "output_type": "display_data"
    }
   ],
   "source": [
    "printmd(brain_agent_executor.invoke({\"question\": \"bing, I need to take my girlfriend to dinner tonight in downtown Chicago. Please give me options for Italian and Sushi as well\"}, \n",
    "                                    config=config)[\"output\"])"
   ]
  },
  {
   "cell_type": "code",
   "execution_count": 29,
   "id": "7d0b33f9-75fa-4a3e-b9d8-8fd30dbfd3fc",
   "metadata": {},
   "outputs": [
    {
     "name": "stdout",
     "output_type": "stream",
     "text": [
      "In physics, the formula for momentum is defined as:\n",
      "\n",
      "\\[ \\text{Momentum} = \\text{Mass} \\times \\text{Velocity} \\]\n",
      "\n",
      "Where:\n",
      "- **Momentum** is the product of an object's mass and its velocity.\n",
      "- **Mass** is the measure of the amount of matter in an object.\n",
      "- **Velocity** is the speed of an object in a specific direction.\n",
      "\n",
      "This formula helps describe the motion of an object and is a fundamental concept in classical mechanics."
     ]
    },
    {
     "data": {
      "text/markdown": [
       "In physics, the formula for momentum is defined as:\n",
       "\n",
       "\\[ \\text{Momentum} = \\text{Mass} \\times \\text{Velocity} \\]\n",
       "\n",
       "Where:\n",
       "- **Momentum** is the product of an object's mass and its velocity.\n",
       "- **Mass** is the measure of the amount of matter in an object.\n",
       "- **Velocity** is the speed of an object in a specific direction.\n",
       "\n",
       "This formula helps describe the motion of an object and is a fundamental concept in classical mechanics."
      ],
      "text/plain": [
       "<IPython.core.display.Markdown object>"
      ]
     },
     "metadata": {},
     "output_type": "display_data"
    }
   ],
   "source": [
    "printmd(brain_agent_executor.invoke({\"question\": \"chatgpt, tell me the formula in physics for momentum\"}, config=config)[\"output\"])"
   ]
  },
  {
   "cell_type": "code",
   "execution_count": 30,
   "id": "94f354eb-884d-4fd3-842e-a8adc3b09a70",
   "metadata": {},
   "outputs": [
    {
     "name": "stdout",
     "output_type": "stream",
     "text": [
      "Agent Action: \n",
      "Invoking: `docsearch` with `markov chains applications`\n",
      "\n",
      "\n",
      "\n",
      "Tool: docsearch\n",
      "Agent Action: \n",
      "Invoking: `docsearch` with `{'query': 'applications of Markov chains'}`\n",
      "\n",
      "\n",
      "\n",
      "### Applications of Markov Chains:\n",
      "\n",
      "1. **Particle Transport in Enclosed Environments:**\n",
      "   - A study developed a combined computational fluid dynamics (CFD) and Markov chain method to predict transient particle transport in enclosed environments. The method calculates a transition probability matrix using CFD simulations and then applies the Markov chain technique to calculate transient particle concentration distributions. This method provides faster-than-real-time information about particle transport and can avoid recalculation of the particle transport equation when the source location changes<sup><a href=\"https://doi.org/10.1111/ina.12056\" target=\"_blank\">[1]</a></sup>.\n",
      "\n",
      "2. **Fast Prediction of Transient Particle Transport Indoors:**\n",
      "   - A proposed model combines fast fluid dynamics (FFD) and Markov chain for predicting transient particle transport indoors. The model, programmed in OpenFOAM, showed good agreement with experimental data and was significantly faster than traditional CFD models, reducing computing costs for predicting transient particle transport indoors<sup><a href=\"https://www.ncbi.nlm.nih.gov/pmc/articles/PMC7090511/\" target=\"_blank\">[2]</a></sup>.\n",
      "\n",
      "3. **Optimization by Rapidly Mixing Evolutionary Algorithms:**\n",
      "   - Markov chains play a crucial role in optimizing evolutionary algorithms. The stationary distribution of populations and the convergence speed of the Markov chain are essential properties for effectively utilizing evolutionary algorithms in optimization tasks<sup><a href=\"https://datasetsgptsmartsearch.blob.core.windows.net/arxivcs/pdf/9902/9902006v1.pdf\" target=\"_blank\">[3]</a></sup>.\n",
      "\n",
      "These applications demonstrate the versatility and effectiveness of Markov chains in various fields, from predicting particle transport to optimizing evolutionary algorithms.Markov chains have several applications in different fields. Here are some of the key applications:\n",
      "\n",
      "### Applications of Markov Chains:\n",
      "\n",
      "1. **Particle Transport in Enclosed Environments:**\n",
      "   - Markov chains are used in predicting transient particle transport in enclosed environments. This method combines computational fluid dynamics (CFD) simulations with Markov chain techniques to calculate particle concentration distributions efficiently.\n",
      "\n",
      "2. **Fast Prediction of Transient Particle Transport Indoors:**\n",
      "   - Markov chains, in conjunction with fast fluid dynamics (FFD) models, are employed to predict transient particle transport indoors. This approach offers a faster and cost-effective alternative to traditional CFD models for predicting particle transport.\n",
      "\n",
      "3. **Optimization by Rapidly Mixing Evolutionary Algorithms:**\n",
      "   - Markov chains play a vital role in optimizing evolutionary algorithms. The stationary distribution of populations and the convergence speed of the Markov chain are crucial for enhancing the efficiency of evolutionary algorithms in optimization tasks.\n",
      "\n",
      "These applications showcase how Markov chains are utilized in diverse areas, from predicting particle movement to optimizing evolutionary algorithms."
     ]
    },
    {
     "data": {
      "text/markdown": [
       "Markov chains have several applications in different fields. Here are some of the key applications:\n",
       "\n",
       "### Applications of Markov Chains:\n",
       "\n",
       "1. **Particle Transport in Enclosed Environments:**\n",
       "   - Markov chains are used in predicting transient particle transport in enclosed environments. This method combines computational fluid dynamics (CFD) simulations with Markov chain techniques to calculate particle concentration distributions efficiently.\n",
       "\n",
       "2. **Fast Prediction of Transient Particle Transport Indoors:**\n",
       "   - Markov chains, in conjunction with fast fluid dynamics (FFD) models, are employed to predict transient particle transport indoors. This approach offers a faster and cost-effective alternative to traditional CFD models for predicting particle transport.\n",
       "\n",
       "3. **Optimization by Rapidly Mixing Evolutionary Algorithms:**\n",
       "   - Markov chains play a vital role in optimizing evolutionary algorithms. The stationary distribution of populations and the convergence speed of the Markov chain are crucial for enhancing the efficiency of evolutionary algorithms in optimization tasks.\n",
       "\n",
       "These applications showcase how Markov chains are utilized in diverse areas, from predicting particle movement to optimizing evolutionary algorithms."
      ],
      "text/plain": [
       "<IPython.core.display.Markdown object>"
      ]
     },
     "metadata": {},
     "output_type": "display_data"
    }
   ],
   "source": [
    "printmd(brain_agent_executor.invoke({\"question\": \"docsearch, what can markov chains do?\"}, config=config)[\"output\"])"
   ]
  },
  {
   "cell_type": "code",
   "execution_count": 31,
   "id": "badebc1b-dbfe-4a92-93bd-9ff214c34e75",
   "metadata": {},
   "outputs": [
    {
     "name": "stdout",
     "output_type": "stream",
     "text": [
      "Agent Action: \n",
      "Invoking: `sqlsearch` with `How many people died of covid in Texas in 2020?`\n",
      "\n",
      "\n",
      "\n",
      "Tool: sqlsearch\n",
      "Agent Action: \n",
      "Invoking: `sql_db_list_tables` with ``\n",
      "\n",
      "\n",
      "\n",
      "Agent Action: \n",
      "Invoking: `sql_db_schema` with `{'table_names': 'covidtracking'}`\n",
      "\n",
      "\n",
      "\n",
      "Agent Action: \n",
      "Invoking: `sql_db_query` with `SELECT SUM(death) AS total_deaths FROM covidtracking WHERE state = 'TX' AND date LIKE '2020%'`\n",
      "\n",
      "\n",
      "\n",
      "The total number of people who died of COVID in Texas in 2020 was 2,841,253. \n",
      "\n",
      "Explanation:\n",
      "I queried the `covidtracking` table to sum up the `death` column for the state of Texas (`TX`) and filtered the results for the year 2020 using the `date LIKE '2020%'` condition.The total number of people who died of COVID in Texas in 2020 was 2,841,253."
     ]
    },
    {
     "data": {
      "text/markdown": [
       "The total number of people who died of COVID in Texas in 2020 was 2,841,253."
      ],
      "text/plain": [
       "<IPython.core.display.Markdown object>"
      ]
     },
     "metadata": {},
     "output_type": "display_data"
    }
   ],
   "source": [
    "printmd(brain_agent_executor.invoke({\"question\": \"@sqlsearch, How many people died of covid in Texas in 2020?\"}, config=config)[\"output\"])"
   ]
  },
  {
   "cell_type": "code",
   "execution_count": 32,
   "id": "410d398b-d589-4352-8c42-2df5be173498",
   "metadata": {},
   "outputs": [
    {
     "name": "stdout",
     "output_type": "stream",
     "text": [
      "Setting boundaries with your children is important for their development and your relationship with them. Here are some key boundaries you can consider setting:\n",
      "\n",
      "### Types of Boundaries for Setting Limits with Kids:\n",
      "\n",
      "1. **Consistent Rules:**\n",
      "   - Establish consistent rules and consequences for behavior. This helps children understand expectations and boundaries.\n",
      "\n",
      "2. **Respectful Communication:**\n",
      "   - Encourage open communication but set boundaries on how they communicate with you. Teach them to express themselves respectfully.\n",
      "\n",
      "3. **Personal Space and Privacy:**\n",
      "   - Teach children to respect personal space and privacy. Set boundaries on entering rooms without permission.\n",
      "\n",
      "4. **Screen Time Limits:**\n",
      "   - Set boundaries on screen time to ensure a healthy balance between technology use and other activities.\n",
      "\n",
      "5. **Responsibility and Chores:**\n",
      "   - Assign age-appropriate responsibilities and chores. Setting boundaries on tasks teaches accountability.\n",
      "\n",
      "6. **Healthy Boundaries with Peers:**\n",
      "   - Teach children to establish healthy boundaries with friends and peers. Encourage them to communicate their needs and limits.\n",
      "\n",
      "7. **Emotional Boundaries:**\n",
      "   - Help children understand emotional boundaries, such as respecting others' feelings and expressing their emotions in a healthy way.\n",
      "\n",
      "8. **Consent and Physical Boundaries:**\n",
      "   - Teach children about consent and the importance of respecting physical boundaries. Encourage them to speak up if they feel uncomfortable.\n",
      "\n",
      "9. **Bedtime and Routine Boundaries:**\n",
      "   - Establish bedtime and routine boundaries to promote healthy sleep habits and structure in their daily lives.\n",
      "\n",
      "By setting clear and consistent boundaries, you can create a supportive and respectful environment for your children to thrive while teaching them valuable life skills."
     ]
    },
    {
     "data": {
      "text/markdown": [
       "Setting boundaries with your children is important for their development and your relationship with them. Here are some key boundaries you can consider setting:\n",
       "\n",
       "### Types of Boundaries for Setting Limits with Kids:\n",
       "\n",
       "1. **Consistent Rules:**\n",
       "   - Establish consistent rules and consequences for behavior. This helps children understand expectations and boundaries.\n",
       "\n",
       "2. **Respectful Communication:**\n",
       "   - Encourage open communication but set boundaries on how they communicate with you. Teach them to express themselves respectfully.\n",
       "\n",
       "3. **Personal Space and Privacy:**\n",
       "   - Teach children to respect personal space and privacy. Set boundaries on entering rooms without permission.\n",
       "\n",
       "4. **Screen Time Limits:**\n",
       "   - Set boundaries on screen time to ensure a healthy balance between technology use and other activities.\n",
       "\n",
       "5. **Responsibility and Chores:**\n",
       "   - Assign age-appropriate responsibilities and chores. Setting boundaries on tasks teaches accountability.\n",
       "\n",
       "6. **Healthy Boundaries with Peers:**\n",
       "   - Teach children to establish healthy boundaries with friends and peers. Encourage them to communicate their needs and limits.\n",
       "\n",
       "7. **Emotional Boundaries:**\n",
       "   - Help children understand emotional boundaries, such as respecting others' feelings and expressing their emotions in a healthy way.\n",
       "\n",
       "8. **Consent and Physical Boundaries:**\n",
       "   - Teach children about consent and the importance of respecting physical boundaries. Encourage them to speak up if they feel uncomfortable.\n",
       "\n",
       "9. **Bedtime and Routine Boundaries:**\n",
       "   - Establish bedtime and routine boundaries to promote healthy sleep habits and structure in their daily lives.\n",
       "\n",
       "By setting clear and consistent boundaries, you can create a supportive and respectful environment for your children to thrive while teaching them valuable life skills."
      ],
      "text/plain": [
       "<IPython.core.display.Markdown object>"
      ]
     },
     "metadata": {},
     "output_type": "display_data"
    }
   ],
   "source": [
    "printmd(brain_agent_executor.invoke({\"question\": \"docsearch, I don't know how to say No to my kids, help me! What kind of boundaries should I set?\"}, config=config)[\"output\"])"
   ]
  },
  {
   "cell_type": "code",
   "execution_count": 33,
   "id": "1fcd6749-b36d-4b5c-be9c-e2f02f34d230",
   "metadata": {},
   "outputs": [
    {
     "name": "stdout",
     "output_type": "stream",
     "text": [
      "Here are some popular dining options in downtown Seoul that you might consider for a meal today:\n",
      "\n",
      "### Dining Recommendations in Downtown Seoul:\n",
      "\n",
      "1. **Jungsik**\n",
      "   - **Cuisine:** Contemporary Korean\n",
      "   - **Highlights:** Michelin-starred restaurant offering innovative Korean cuisine with a modern twist.\n",
      "   - **Location:** Gangnam-gu\n",
      "   - **Website:** [Jungsik](https://www.jungsik.kr/eng/main/main.php)\n",
      "\n",
      "2. **Myeongdong Kyoja**\n",
      "   - **Cuisine:** Korean\n",
      "   - **Highlights:** Famous for its handmade kalguksu (knife-cut noodles) and mandu (dumplings).\n",
      "   - **Location:** Myeongdong\n",
      "   - **Website:** [Myeongdong Kyoja](http://www.mdkj.co.kr/)\n",
      "\n",
      "3. **Tosokchon**\n",
      "   - **Cuisine:** Korean\n",
      "   - **Highlights:** Known for its traditional samgyetang (ginseng chicken soup) and cozy atmosphere.\n",
      "   - **Location:** Jongno-gu\n",
      "   - **Website:** [Tosokchon](http://www.tosokchon.com/)\n",
      "\n",
      "4. **Gwangjang Market**\n",
      "   - **Cuisine:** Street Food\n",
      "   - **Highlights:** Explore a wide range of traditional Korean street food stalls offering diverse delicacies.\n",
      "   - **Location:** Jongno-gu\n",
      "   - **Website:** [Gwangjang Market](http://www.kwangjangmarket.co.kr/)\n",
      "\n",
      "5. **Bada Sikdang**\n",
      "   - **Cuisine:** Korean Barbecue\n",
      "   - **Highlights:** Enjoy a traditional Korean barbecue experience with a variety of meat options.\n",
      "   - **Location:** Mapo-gu\n",
      "   - **Website:** [Bada Sikdang](https://www.instagram.com/badasikdang/)\n",
      "\n",
      "These dining options offer a mix of traditional Korean cuisine, modern interpretations, and street food experiences in downtown Seoul. Enjoy your meal!"
     ]
    },
    {
     "data": {
      "text/markdown": [
       "Here are some popular dining options in downtown Seoul that you might consider for a meal today:\n",
       "\n",
       "### Dining Recommendations in Downtown Seoul:\n",
       "\n",
       "1. **Jungsik**\n",
       "   - **Cuisine:** Contemporary Korean\n",
       "   - **Highlights:** Michelin-starred restaurant offering innovative Korean cuisine with a modern twist.\n",
       "   - **Location:** Gangnam-gu\n",
       "   - **Website:** [Jungsik](https://www.jungsik.kr/eng/main/main.php)\n",
       "\n",
       "2. **Myeongdong Kyoja**\n",
       "   - **Cuisine:** Korean\n",
       "   - **Highlights:** Famous for its handmade kalguksu (knife-cut noodles) and mandu (dumplings).\n",
       "   - **Location:** Myeongdong\n",
       "   - **Website:** [Myeongdong Kyoja](http://www.mdkj.co.kr/)\n",
       "\n",
       "3. **Tosokchon**\n",
       "   - **Cuisine:** Korean\n",
       "   - **Highlights:** Known for its traditional samgyetang (ginseng chicken soup) and cozy atmosphere.\n",
       "   - **Location:** Jongno-gu\n",
       "   - **Website:** [Tosokchon](http://www.tosokchon.com/)\n",
       "\n",
       "4. **Gwangjang Market**\n",
       "   - **Cuisine:** Street Food\n",
       "   - **Highlights:** Explore a wide range of traditional Korean street food stalls offering diverse delicacies.\n",
       "   - **Location:** Jongno-gu\n",
       "   - **Website:** [Gwangjang Market](http://www.kwangjangmarket.co.kr/)\n",
       "\n",
       "5. **Bada Sikdang**\n",
       "   - **Cuisine:** Korean Barbecue\n",
       "   - **Highlights:** Enjoy a traditional Korean barbecue experience with a variety of meat options.\n",
       "   - **Location:** Mapo-gu\n",
       "   - **Website:** [Bada Sikdang](https://www.instagram.com/badasikdang/)\n",
       "\n",
       "These dining options offer a mix of traditional Korean cuisine, modern interpretations, and street food experiences in downtown Seoul. Enjoy your meal!"
      ],
      "text/plain": [
       "<IPython.core.display.Markdown object>"
      ]
     },
     "metadata": {},
     "output_type": "display_data"
    }
   ],
   "source": [
    "# This question although does not contain instructions for a tool, the brain agent decides what tool to use\n",
    "printmd(brain_agent_executor.invoke({\"question\": \"What's a good place to dine today in downtown Seoul?\"}, config=config)[\"output\"])"
   ]
  },
  {
   "cell_type": "code",
   "execution_count": 34,
   "id": "080cc28e-2130-4c79-ba7d-0ed702f0ea7a",
   "metadata": {},
   "outputs": [
    {
     "name": "stdout",
     "output_type": "stream",
     "text": [
      "Here is a simple JavaScript example that demonstrates how to trim the spaces of a sentence using the `trim()` function:\n",
      "\n",
      "```javascript\n",
      "// Original sentence with extra spaces\n",
      "let sentence = \"   Hello,  how are you?   \";\n",
      "\n",
      "// Trim the spaces from the sentence\n",
      "let trimmedSentence = sentence.trim();\n",
      "\n",
      "// Output the trimmed sentence\n",
      "console.log(trimmedSentence);\n",
      "```\n",
      "\n",
      "In this example, the `trim()` function is used to remove any leading and trailing spaces from the sentence \"   Hello,  how are you?   \". The output will be \"Hello,  how are you?\" with the extra spaces removed."
     ]
    },
    {
     "data": {
      "text/markdown": [
       "Here is a simple JavaScript example that demonstrates how to trim the spaces of a sentence using the `trim()` function:\n",
       "\n",
       "```javascript\n",
       "// Original sentence with extra spaces\n",
       "let sentence = \"   Hello,  how are you?   \";\n",
       "\n",
       "// Trim the spaces from the sentence\n",
       "let trimmedSentence = sentence.trim();\n",
       "\n",
       "// Output the trimmed sentence\n",
       "console.log(trimmedSentence);\n",
       "```\n",
       "\n",
       "In this example, the `trim()` function is used to remove any leading and trailing spaces from the sentence \"   Hello,  how are you?   \". The output will be \"Hello,  how are you?\" with the extra spaces removed."
      ],
      "text/plain": [
       "<IPython.core.display.Markdown object>"
      ]
     },
     "metadata": {},
     "output_type": "display_data"
    }
   ],
   "source": [
    "# This question many times causes a parsing error, but we can still give the answer using the run_agent function\n",
    "# which handles the parsing error exception\n",
    "printmd(brain_agent_executor.invoke({\"question\": \"@chatgpt, can you give me a javascript example of how to trim the spaces of a sentence?\"}, config=config)[\"output\"])"
   ]
  },
  {
   "cell_type": "code",
   "execution_count": 35,
   "id": "b82d20c5-4591-4d94-8af7-bae614685874",
   "metadata": {},
   "outputs": [
    {
     "name": "stdout",
     "output_type": "stream",
     "text": [
      "I'm here to provide helpful and informative responses. If you have any other questions or need assistance with something else, feel free to ask!"
     ]
    },
    {
     "data": {
      "text/markdown": [
       "I'm here to provide helpful and informative responses. If you have any other questions or need assistance with something else, feel free to ask!"
      ],
      "text/plain": [
       "<IPython.core.display.Markdown object>"
      ]
     },
     "metadata": {},
     "output_type": "display_data"
    }
   ],
   "source": [
    "# This question should trigger our prompt safety instructions\n",
    "printmd(brain_agent_executor.invoke({\"question\": \"Tell me a funny joke about the president\"}, config=config)[\"output\"])"
   ]
  },
  {
   "cell_type": "code",
   "execution_count": 36,
   "id": "a5ded8d9-0bfe-4e16-be3f-382271c120a9",
   "metadata": {},
   "outputs": [
    {
     "name": "stdout",
     "output_type": "stream",
     "text": [
      "You're welcome! If you have any more questions in the future, feel free to ask. Have a great day!"
     ]
    },
    {
     "data": {
      "text/markdown": [
       "You're welcome! If you have any more questions in the future, feel free to ask. Have a great day!"
      ],
      "text/plain": [
       "<IPython.core.display.Markdown object>"
      ]
     },
     "metadata": {},
     "output_type": "display_data"
    }
   ],
   "source": [
    "printmd(brain_agent_executor.invoke({\"question\": \"Thank you!\"}, config=config)[\"output\"])"
   ]
  },
  {
   "cell_type": "markdown",
   "id": "96a54fc7-ec9b-4ced-9e17-c65d00aa97f6",
   "metadata": {},
   "source": [
    "# Summary"
   ]
  },
  {
   "cell_type": "markdown",
   "id": "9c48d899-bd7b-4081-a656-e8d9e597220d",
   "metadata": {},
   "source": [
    "Great!, We just built the GPT Smart Search Engine!\n",
    "In this Notebook we created the brain, the decision making Agent that decides what Tool to use to answer the question from the user. This is what was necessary in order to have an smart chat bot.\n",
    "\n",
    "We can have many tools to accomplish different tasks, including connecting to APIs, dealing with File Systems, and even using Humans as Tools. For more reference see [HERE](https://python.langchain.com/docs/integrations/tools/)"
   ]
  },
  {
   "cell_type": "markdown",
   "id": "9969ed7e-3680-4853-b750-675a42d3b9ea",
   "metadata": {},
   "source": [
    "# NEXT\n",
    "It is time now to use all the functions and prompts build so far and build a Web application.\n",
    "The Next notebook will guide you on how to build:\n",
    "\n",
    "1) A Bot API Backend\n",
    "2) A Frontend UI with a Search and Webchat interfaces"
   ]
  },
  {
   "cell_type": "code",
   "execution_count": null,
   "id": "c78744b9-c585-4a6b-aa73-72ef72c64bf8",
   "metadata": {},
   "outputs": [],
   "source": []
  }
 ],
 "metadata": {
  "kernelspec": {
   "display_name": "Python 3.10 - SDK v2",
   "language": "python",
   "name": "python310-sdkv2"
  },
  "language_info": {
   "codemirror_mode": {
    "name": "ipython",
    "version": 3
   },
   "file_extension": ".py",
   "mimetype": "text/x-python",
   "name": "python",
   "nbconvert_exporter": "python",
   "pygments_lexer": "ipython3",
   "version": "3.10.11"
  }
 },
 "nbformat": 4,
 "nbformat_minor": 5
}
